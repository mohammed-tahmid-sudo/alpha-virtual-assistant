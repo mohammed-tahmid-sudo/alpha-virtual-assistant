{
 "cells": [
  {
   "cell_type": "markdown",
   "id": "7f6513e8-98a7-49b2-b7e3-4d5885fd2585",
   "metadata": {},
   "source": [
    "## If Search Online\n",
    "This model would check if the user's given prompt neeed searching the internet and if it does, then the model would return `TRUE` Followed by : (the user's prompt). We'll be using Unsloth, Torch and the t5-small model for Fine Tuning work."
   ]
  },
  {
   "cell_type": "markdown",
   "id": "edbce025-66d8-4967-a314-96989059e933",
   "metadata": {},
   "source": [
    "### step 1: Importing the modules"
   ]
  },
  {
   "cell_type": "code",
   "execution_count": 2,
   "id": "390a5c56-0e3d-4731-a730-1b1a6c32da05",
   "metadata": {},
   "outputs": [
    {
     "name": "stdout",
     "output_type": "stream",
     "text": [
      "Requirement already satisfied: torch in c:\\users\\computer\\desktop\\alpha-virtual-assistant\\python\\model\\search_model\\venv\\lib\\site-packages (2.8.0)\n",
      "Requirement already satisfied: transformers in c:\\users\\computer\\desktop\\alpha-virtual-assistant\\python\\model\\search_model\\venv\\lib\\site-packages (4.55.2)\n",
      "Requirement already satisfied: datasets in c:\\users\\computer\\desktop\\alpha-virtual-assistant\\python\\model\\search_model\\venv\\lib\\site-packages (3.6.0)\n",
      "Requirement already satisfied: unsloth in c:\\users\\computer\\desktop\\alpha-virtual-assistant\\python\\model\\search_model\\venv\\lib\\site-packages (2025.8.9)\n",
      "Requirement already satisfied: accelerate in c:\\users\\computer\\desktop\\alpha-virtual-assistant\\python\\model\\search_model\\venv\\lib\\site-packages (1.10.0)\n",
      "Requirement already satisfied: peft in c:\\users\\computer\\desktop\\alpha-virtual-assistant\\python\\model\\search_model\\venv\\lib\\site-packages (0.17.0)\n",
      "Requirement already satisfied: filelock in c:\\users\\computer\\desktop\\alpha-virtual-assistant\\python\\model\\search_model\\venv\\lib\\site-packages (from torch) (3.19.1)\n",
      "Requirement already satisfied: typing-extensions>=4.10.0 in c:\\users\\computer\\desktop\\alpha-virtual-assistant\\python\\model\\search_model\\venv\\lib\\site-packages (from torch) (4.14.1)\n",
      "Requirement already satisfied: sympy>=1.13.3 in c:\\users\\computer\\desktop\\alpha-virtual-assistant\\python\\model\\search_model\\venv\\lib\\site-packages (from torch) (1.14.0)\n",
      "Requirement already satisfied: networkx in c:\\users\\computer\\desktop\\alpha-virtual-assistant\\python\\model\\search_model\\venv\\lib\\site-packages (from torch) (3.5)\n",
      "Requirement already satisfied: jinja2 in c:\\users\\computer\\desktop\\alpha-virtual-assistant\\python\\model\\search_model\\venv\\lib\\site-packages (from torch) (3.1.6)\n",
      "Requirement already satisfied: fsspec in c:\\users\\computer\\desktop\\alpha-virtual-assistant\\python\\model\\search_model\\venv\\lib\\site-packages (from torch) (2025.3.0)\n",
      "Requirement already satisfied: setuptools in c:\\users\\computer\\desktop\\alpha-virtual-assistant\\python\\model\\search_model\\venv\\lib\\site-packages (from torch) (80.9.0)\n",
      "Requirement already satisfied: huggingface-hub<1.0,>=0.34.0 in c:\\users\\computer\\desktop\\alpha-virtual-assistant\\python\\model\\search_model\\venv\\lib\\site-packages (from transformers) (0.34.4)\n",
      "Requirement already satisfied: numpy>=1.17 in c:\\users\\computer\\desktop\\alpha-virtual-assistant\\python\\model\\search_model\\venv\\lib\\site-packages (from transformers) (2.3.2)\n",
      "Requirement already satisfied: packaging>=20.0 in c:\\users\\computer\\desktop\\alpha-virtual-assistant\\python\\model\\search_model\\venv\\lib\\site-packages (from transformers) (25.0)\n",
      "Requirement already satisfied: pyyaml>=5.1 in c:\\users\\computer\\desktop\\alpha-virtual-assistant\\python\\model\\search_model\\venv\\lib\\site-packages (from transformers) (6.0.2)\n",
      "Requirement already satisfied: regex!=2019.12.17 in c:\\users\\computer\\desktop\\alpha-virtual-assistant\\python\\model\\search_model\\venv\\lib\\site-packages (from transformers) (2025.7.34)\n",
      "Requirement already satisfied: requests in c:\\users\\computer\\desktop\\alpha-virtual-assistant\\python\\model\\search_model\\venv\\lib\\site-packages (from transformers) (2.32.5)\n",
      "Requirement already satisfied: tokenizers<0.22,>=0.21 in c:\\users\\computer\\desktop\\alpha-virtual-assistant\\python\\model\\search_model\\venv\\lib\\site-packages (from transformers) (0.21.4)\n",
      "Requirement already satisfied: safetensors>=0.4.3 in c:\\users\\computer\\desktop\\alpha-virtual-assistant\\python\\model\\search_model\\venv\\lib\\site-packages (from transformers) (0.6.2)\n",
      "Requirement already satisfied: tqdm>=4.27 in c:\\users\\computer\\desktop\\alpha-virtual-assistant\\python\\model\\search_model\\venv\\lib\\site-packages (from transformers) (4.67.1)\n",
      "Requirement already satisfied: pyarrow>=15.0.0 in c:\\users\\computer\\desktop\\alpha-virtual-assistant\\python\\model\\search_model\\venv\\lib\\site-packages (from datasets) (21.0.0)\n",
      "Requirement already satisfied: dill<0.3.9,>=0.3.0 in c:\\users\\computer\\desktop\\alpha-virtual-assistant\\python\\model\\search_model\\venv\\lib\\site-packages (from datasets) (0.3.8)\n",
      "Requirement already satisfied: pandas in c:\\users\\computer\\desktop\\alpha-virtual-assistant\\python\\model\\search_model\\venv\\lib\\site-packages (from datasets) (2.3.1)\n",
      "Requirement already satisfied: xxhash in c:\\users\\computer\\desktop\\alpha-virtual-assistant\\python\\model\\search_model\\venv\\lib\\site-packages (from datasets) (3.5.0)\n",
      "Requirement already satisfied: multiprocess<0.70.17 in c:\\users\\computer\\desktop\\alpha-virtual-assistant\\python\\model\\search_model\\venv\\lib\\site-packages (from datasets) (0.70.16)\n",
      "Requirement already satisfied: aiohttp!=4.0.0a0,!=4.0.0a1 in c:\\users\\computer\\desktop\\alpha-virtual-assistant\\python\\model\\search_model\\venv\\lib\\site-packages (from fsspec[http]<=2025.3.0,>=2023.1.0->datasets) (3.12.15)\n",
      "Requirement already satisfied: unsloth_zoo>=2025.8.8 in c:\\users\\computer\\desktop\\alpha-virtual-assistant\\python\\model\\search_model\\venv\\lib\\site-packages (from unsloth) (2025.8.8)\n",
      "Requirement already satisfied: xformers>=0.0.27.post2 in c:\\users\\computer\\desktop\\alpha-virtual-assistant\\python\\model\\search_model\\venv\\lib\\site-packages (from unsloth) (0.0.32.post2)\n",
      "Requirement already satisfied: bitsandbytes in c:\\users\\computer\\desktop\\alpha-virtual-assistant\\python\\model\\search_model\\venv\\lib\\site-packages (from unsloth) (0.47.0)\n",
      "Requirement already satisfied: triton-windows in c:\\users\\computer\\desktop\\alpha-virtual-assistant\\python\\model\\search_model\\venv\\lib\\site-packages (from unsloth) (3.4.0.post20)\n",
      "Requirement already satisfied: tyro in c:\\users\\computer\\desktop\\alpha-virtual-assistant\\python\\model\\search_model\\venv\\lib\\site-packages (from unsloth) (0.9.28)\n",
      "Requirement already satisfied: sentencepiece>=0.2.0 in c:\\users\\computer\\desktop\\alpha-virtual-assistant\\python\\model\\search_model\\venv\\lib\\site-packages (from unsloth) (0.2.1)\n",
      "Requirement already satisfied: psutil in c:\\users\\computer\\desktop\\alpha-virtual-assistant\\python\\model\\search_model\\venv\\lib\\site-packages (from unsloth) (7.0.0)\n",
      "Requirement already satisfied: wheel>=0.42.0 in c:\\users\\computer\\desktop\\alpha-virtual-assistant\\python\\model\\search_model\\venv\\lib\\site-packages (from unsloth) (0.45.1)\n",
      "Requirement already satisfied: trl!=0.15.0,!=0.19.0,!=0.9.0,!=0.9.1,!=0.9.2,!=0.9.3,>=0.7.9 in c:\\users\\computer\\desktop\\alpha-virtual-assistant\\python\\model\\search_model\\venv\\lib\\site-packages (from unsloth) (0.21.0)\n",
      "Requirement already satisfied: protobuf in c:\\users\\computer\\desktop\\alpha-virtual-assistant\\python\\model\\search_model\\venv\\lib\\site-packages (from unsloth) (6.32.0)\n",
      "Requirement already satisfied: hf_transfer in c:\\users\\computer\\desktop\\alpha-virtual-assistant\\python\\model\\search_model\\venv\\lib\\site-packages (from unsloth) (0.1.9)\n",
      "Requirement already satisfied: diffusers in c:\\users\\computer\\desktop\\alpha-virtual-assistant\\python\\model\\search_model\\venv\\lib\\site-packages (from unsloth) (0.35.1)\n",
      "Requirement already satisfied: torchvision in c:\\users\\computer\\desktop\\alpha-virtual-assistant\\python\\model\\search_model\\venv\\lib\\site-packages (from unsloth) (0.23.0)\n",
      "Requirement already satisfied: aiohappyeyeballs>=2.5.0 in c:\\users\\computer\\desktop\\alpha-virtual-assistant\\python\\model\\search_model\\venv\\lib\\site-packages (from aiohttp!=4.0.0a0,!=4.0.0a1->fsspec[http]<=2025.3.0,>=2023.1.0->datasets) (2.6.1)\n",
      "Requirement already satisfied: aiosignal>=1.4.0 in c:\\users\\computer\\desktop\\alpha-virtual-assistant\\python\\model\\search_model\\venv\\lib\\site-packages (from aiohttp!=4.0.0a0,!=4.0.0a1->fsspec[http]<=2025.3.0,>=2023.1.0->datasets) (1.4.0)\n",
      "Requirement already satisfied: attrs>=17.3.0 in c:\\users\\computer\\desktop\\alpha-virtual-assistant\\python\\model\\search_model\\venv\\lib\\site-packages (from aiohttp!=4.0.0a0,!=4.0.0a1->fsspec[http]<=2025.3.0,>=2023.1.0->datasets) (25.3.0)\n",
      "Requirement already satisfied: frozenlist>=1.1.1 in c:\\users\\computer\\desktop\\alpha-virtual-assistant\\python\\model\\search_model\\venv\\lib\\site-packages (from aiohttp!=4.0.0a0,!=4.0.0a1->fsspec[http]<=2025.3.0,>=2023.1.0->datasets) (1.7.0)\n",
      "Requirement already satisfied: multidict<7.0,>=4.5 in c:\\users\\computer\\desktop\\alpha-virtual-assistant\\python\\model\\search_model\\venv\\lib\\site-packages (from aiohttp!=4.0.0a0,!=4.0.0a1->fsspec[http]<=2025.3.0,>=2023.1.0->datasets) (6.6.4)\n",
      "Requirement already satisfied: propcache>=0.2.0 in c:\\users\\computer\\desktop\\alpha-virtual-assistant\\python\\model\\search_model\\venv\\lib\\site-packages (from aiohttp!=4.0.0a0,!=4.0.0a1->fsspec[http]<=2025.3.0,>=2023.1.0->datasets) (0.3.2)\n",
      "Requirement already satisfied: yarl<2.0,>=1.17.0 in c:\\users\\computer\\desktop\\alpha-virtual-assistant\\python\\model\\search_model\\venv\\lib\\site-packages (from aiohttp!=4.0.0a0,!=4.0.0a1->fsspec[http]<=2025.3.0,>=2023.1.0->datasets) (1.20.1)\n",
      "Requirement already satisfied: idna>=2.0 in c:\\users\\computer\\desktop\\alpha-virtual-assistant\\python\\model\\search_model\\venv\\lib\\site-packages (from yarl<2.0,>=1.17.0->aiohttp!=4.0.0a0,!=4.0.0a1->fsspec[http]<=2025.3.0,>=2023.1.0->datasets) (3.10)\n",
      "Requirement already satisfied: charset_normalizer<4,>=2 in c:\\users\\computer\\desktop\\alpha-virtual-assistant\\python\\model\\search_model\\venv\\lib\\site-packages (from requests->transformers) (3.4.3)\n",
      "Requirement already satisfied: urllib3<3,>=1.21.1 in c:\\users\\computer\\desktop\\alpha-virtual-assistant\\python\\model\\search_model\\venv\\lib\\site-packages (from requests->transformers) (2.5.0)\n",
      "Requirement already satisfied: certifi>=2017.4.17 in c:\\users\\computer\\desktop\\alpha-virtual-assistant\\python\\model\\search_model\\venv\\lib\\site-packages (from requests->transformers) (2025.8.3)\n",
      "Requirement already satisfied: mpmath<1.4,>=1.1.0 in c:\\users\\computer\\desktop\\alpha-virtual-assistant\\python\\model\\search_model\\venv\\lib\\site-packages (from sympy>=1.13.3->torch) (1.3.0)\n",
      "Requirement already satisfied: colorama in c:\\users\\computer\\desktop\\alpha-virtual-assistant\\python\\model\\search_model\\venv\\lib\\site-packages (from tqdm>=4.27->transformers) (0.4.6)\n",
      "Requirement already satisfied: torchao in c:\\users\\computer\\desktop\\alpha-virtual-assistant\\python\\model\\search_model\\venv\\lib\\site-packages (from unsloth_zoo>=2025.8.8->unsloth) (0.12.0)\n",
      "Requirement already satisfied: cut_cross_entropy in c:\\users\\computer\\desktop\\alpha-virtual-assistant\\python\\model\\search_model\\venv\\lib\\site-packages (from unsloth_zoo>=2025.8.8->unsloth) (25.1.1)\n",
      "Requirement already satisfied: pillow in c:\\users\\computer\\desktop\\alpha-virtual-assistant\\python\\model\\search_model\\venv\\lib\\site-packages (from unsloth_zoo>=2025.8.8->unsloth) (11.3.0)\n",
      "Requirement already satisfied: msgspec in c:\\users\\computer\\desktop\\alpha-virtual-assistant\\python\\model\\search_model\\venv\\lib\\site-packages (from unsloth_zoo>=2025.8.8->unsloth) (0.19.0)\n",
      "Requirement already satisfied: importlib_metadata in c:\\users\\computer\\desktop\\alpha-virtual-assistant\\python\\model\\search_model\\venv\\lib\\site-packages (from diffusers->unsloth) (8.7.0)\n",
      "Requirement already satisfied: zipp>=3.20 in c:\\users\\computer\\desktop\\alpha-virtual-assistant\\python\\model\\search_model\\venv\\lib\\site-packages (from importlib_metadata->diffusers->unsloth) (3.23.0)\n",
      "Requirement already satisfied: MarkupSafe>=2.0 in c:\\users\\computer\\desktop\\alpha-virtual-assistant\\python\\model\\search_model\\venv\\lib\\site-packages (from jinja2->torch) (3.0.2)\n",
      "Requirement already satisfied: python-dateutil>=2.8.2 in c:\\users\\computer\\desktop\\alpha-virtual-assistant\\python\\model\\search_model\\venv\\lib\\site-packages (from pandas->datasets) (2.9.0.post0)\n",
      "Requirement already satisfied: pytz>=2020.1 in c:\\users\\computer\\desktop\\alpha-virtual-assistant\\python\\model\\search_model\\venv\\lib\\site-packages (from pandas->datasets) (2025.2)\n",
      "Requirement already satisfied: tzdata>=2022.7 in c:\\users\\computer\\desktop\\alpha-virtual-assistant\\python\\model\\search_model\\venv\\lib\\site-packages (from pandas->datasets) (2025.2)\n",
      "Requirement already satisfied: six>=1.5 in c:\\users\\computer\\desktop\\alpha-virtual-assistant\\python\\model\\search_model\\venv\\lib\\site-packages (from python-dateutil>=2.8.2->pandas->datasets) (1.17.0)\n",
      "Requirement already satisfied: docstring-parser>=0.15 in c:\\users\\computer\\desktop\\alpha-virtual-assistant\\python\\model\\search_model\\venv\\lib\\site-packages (from tyro->unsloth) (0.17.0)\n",
      "Requirement already satisfied: rich>=11.1.0 in c:\\users\\computer\\desktop\\alpha-virtual-assistant\\python\\model\\search_model\\venv\\lib\\site-packages (from tyro->unsloth) (14.1.0)\n",
      "Requirement already satisfied: shtab>=1.5.6 in c:\\users\\computer\\desktop\\alpha-virtual-assistant\\python\\model\\search_model\\venv\\lib\\site-packages (from tyro->unsloth) (1.7.2)\n",
      "Requirement already satisfied: typeguard>=4.0.0 in c:\\users\\computer\\desktop\\alpha-virtual-assistant\\python\\model\\search_model\\venv\\lib\\site-packages (from tyro->unsloth) (4.4.4)\n",
      "Requirement already satisfied: markdown-it-py>=2.2.0 in c:\\users\\computer\\desktop\\alpha-virtual-assistant\\python\\model\\search_model\\venv\\lib\\site-packages (from rich>=11.1.0->tyro->unsloth) (4.0.0)\n",
      "Requirement already satisfied: pygments<3.0.0,>=2.13.0 in c:\\users\\computer\\desktop\\alpha-virtual-assistant\\python\\model\\search_model\\venv\\lib\\site-packages (from rich>=11.1.0->tyro->unsloth) (2.19.2)\n",
      "Requirement already satisfied: mdurl~=0.1 in c:\\users\\computer\\desktop\\alpha-virtual-assistant\\python\\model\\search_model\\venv\\lib\\site-packages (from markdown-it-py>=2.2.0->rich>=11.1.0->tyro->unsloth) (0.1.2)\n"
     ]
    }
   ],
   "source": [
    "!pip install torch transformers datasets unsloth accelerate peft"
   ]
  },
  {
   "cell_type": "markdown",
   "id": "13fa34a4-723a-46ea-89bd-d767f14783fa",
   "metadata": {},
   "source": [
    "### Step 2: Loading the Dataset And Tokenizer"
   ]
  },
  {
   "cell_type": "code",
   "execution_count": null,
   "id": "50540232-9c07-4c67-93a9-e826731caa97",
   "metadata": {},
   "outputs": [],
   "source": []
  }
 ],
 "metadata": {
  "kernelspec": {
   "display_name": "Python 3 (ipykernel)",
   "language": "python",
   "name": "python3"
  },
  "language_info": {
   "codemirror_mode": {
    "name": "ipython",
    "version": 3
   },
   "file_extension": ".py",
   "mimetype": "text/x-python",
   "name": "python",
   "nbconvert_exporter": "python",
   "pygments_lexer": "ipython3",
   "version": "3.13.7"
  }
 },
 "nbformat": 4,
 "nbformat_minor": 5
}
:q
